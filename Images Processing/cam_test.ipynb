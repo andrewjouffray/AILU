{
 "cells": [
  {
   "cell_type": "code",
   "execution_count": 2,
   "metadata": {},
   "outputs": [
    {
     "name": "stdout",
     "output_type": "stream",
     "text": [
      "../data/realsense/ not empty. Overwrite? (y/n) : n\n"
     ]
    },
    {
     "ename": "RuntimeError",
     "evalue": "Camera already streaming",
     "output_type": "error",
     "traceback": [
      "\u001b[1;31m---------------------------------------------------------------------------\u001b[0m",
      "\u001b[1;31mRuntimeError\u001b[0m                              Traceback (most recent call last)",
      "\u001b[1;32m<ipython-input-2-42bfdd02cb8f>\u001b[0m in \u001b[0;36m<module>\u001b[1;34m\u001b[0m\n\u001b[0;32m     76\u001b[0m \u001b[1;33m\u001b[0m\u001b[0m\n\u001b[0;32m     77\u001b[0m \u001b[1;32mif\u001b[0m \u001b[0m__name__\u001b[0m \u001b[1;33m==\u001b[0m \u001b[1;34m\"__main__\"\u001b[0m\u001b[1;33m:\u001b[0m\u001b[1;33m\u001b[0m\u001b[1;33m\u001b[0m\u001b[0m\n\u001b[1;32m---> 78\u001b[1;33m     \u001b[0mrecord_rgbd\u001b[0m\u001b[1;33m(\u001b[0m\u001b[1;33m)\u001b[0m\u001b[1;33m\u001b[0m\u001b[1;33m\u001b[0m\u001b[0m\n\u001b[0m",
      "\u001b[1;32m<ipython-input-2-42bfdd02cb8f>\u001b[0m in \u001b[0;36mrecord_rgbd\u001b[1;34m()\u001b[0m\n\u001b[0;32m     28\u001b[0m     \u001b[0mconfig\u001b[0m\u001b[1;33m.\u001b[0m\u001b[0menable_stream\u001b[0m\u001b[1;33m(\u001b[0m\u001b[0mrs\u001b[0m\u001b[1;33m.\u001b[0m\u001b[0mstream\u001b[0m\u001b[1;33m.\u001b[0m\u001b[0mcolor\u001b[0m\u001b[1;33m,\u001b[0m \u001b[1;36m640\u001b[0m\u001b[1;33m,\u001b[0m \u001b[1;36m480\u001b[0m\u001b[1;33m,\u001b[0m \u001b[0mrs\u001b[0m\u001b[1;33m.\u001b[0m\u001b[0mformat\u001b[0m\u001b[1;33m.\u001b[0m\u001b[0mbgr8\u001b[0m\u001b[1;33m,\u001b[0m \u001b[1;36m30\u001b[0m\u001b[1;33m)\u001b[0m\u001b[1;33m\u001b[0m\u001b[1;33m\u001b[0m\u001b[0m\n\u001b[0;32m     29\u001b[0m \u001b[1;33m\u001b[0m\u001b[0m\n\u001b[1;32m---> 30\u001b[1;33m     \u001b[0mprofile\u001b[0m \u001b[1;33m=\u001b[0m \u001b[0mpipeline\u001b[0m\u001b[1;33m.\u001b[0m\u001b[0mstart\u001b[0m\u001b[1;33m(\u001b[0m\u001b[0mconfig\u001b[0m\u001b[1;33m)\u001b[0m\u001b[1;33m\u001b[0m\u001b[1;33m\u001b[0m\u001b[0m\n\u001b[0m\u001b[0;32m     31\u001b[0m \u001b[1;33m\u001b[0m\u001b[0m\n\u001b[0;32m     32\u001b[0m     \u001b[0mdepth_sensor\u001b[0m \u001b[1;33m=\u001b[0m \u001b[0mprofile\u001b[0m\u001b[1;33m.\u001b[0m\u001b[0mget_device\u001b[0m\u001b[1;33m(\u001b[0m\u001b[1;33m)\u001b[0m\u001b[1;33m.\u001b[0m\u001b[0mfirst_depth_sensor\u001b[0m\u001b[1;33m(\u001b[0m\u001b[1;33m)\u001b[0m\u001b[1;33m\u001b[0m\u001b[1;33m\u001b[0m\u001b[0m\n",
      "\u001b[1;31mRuntimeError\u001b[0m: Camera already streaming"
     ]
    }
   ],
   "source": [
    "import cv2\n",
    "import imageio\n",
    "import numpy as np\n",
    "import pyrealsense2 as rs\n",
    "import os\n",
    "import shutil\n",
    "\n",
    "\n",
    "def make_clean_folder(path_folder):\n",
    "    if not os.path.exists(path_folder):\n",
    "        os.makedirs(path_folder)\n",
    "    else:\n",
    "        user_input = input(\"%s not empty. Overwrite? (y/n) : \" % path_folder)\n",
    "        if user_input.lower() == \"y\":\n",
    "            shutil.rmtree(path_folder)\n",
    "            os.makedirs(path_folder)\n",
    "        else:\n",
    "            exit()\n",
    "\n",
    "\n",
    "def record_rgbd():\n",
    "    make_clean_folder(\"../data/realsense/\")\n",
    "\n",
    "    pipeline = rs.pipeline()\n",
    "\n",
    "    config = rs.config()\n",
    "    config.enable_stream(rs.stream.depth, 1280, 720, rs.format.z16, 30)\n",
    "    config.enable_stream(rs.stream.color, 640, 480, rs.format.bgr8, 30)\n",
    "\n",
    "    profile = pipeline.start(config)\n",
    "\n",
    "    depth_sensor = profile.get_device().first_depth_sensor()\n",
    "    depth_sensor.set_option(\n",
    "        rs.option.visual_preset, 3\n",
    "    )  # Set high accuracy for depth sensor\n",
    "    depth_scale = depth_sensor.get_depth_scale()\n",
    "\n",
    "    clipping_distance_in_meters = 1\n",
    "    clipping_distance = clipping_distance_in_meters / depth_scale\n",
    "\n",
    "    align_to = rs.stream.color\n",
    "    align = rs.align(align_to)\n",
    "\n",
    "    try:\n",
    "        frames = pipeline.wait_for_frames()\n",
    "        aligned_frames = align.process(frames)\n",
    "        aligned_depth_frame = aligned_frames.get_depth_frame()\n",
    "        color_frame = aligned_frames.get_color_frame()\n",
    "\n",
    "        if not aligned_depth_frame or not color_frame:\n",
    "            raise RuntimeError(\"Could not acquire depth or color frames.\")\n",
    "\n",
    "        depth_image = np.asanyarray(aligned_depth_frame.get_data())\n",
    "        color_image = np.asanyarray(color_frame.get_data())\n",
    "\n",
    "        grey_color = 153\n",
    "        depth_image_3d = np.dstack(\n",
    "            (depth_image, depth_image, depth_image)\n",
    "        )  # Depth image is 1 channel, color is 3 channels\n",
    "        bg_removed = np.where(\n",
    "            (depth_image_3d > clipping_distance) | (depth_image_3d <= 0),\n",
    "            grey_color,\n",
    "            color_image,\n",
    "        )\n",
    "\n",
    "        color_image = color_image[..., ::-1]\n",
    "\n",
    "        imageio.imwrite(\"../data/realsense/depth.png\", depth_image)\n",
    "        imageio.imwrite(\"../data/realsense/rgb.png\", color_image)\n",
    "\n",
    "    finally:\n",
    "        pipeline.stop()\n",
    "\n",
    "    return color_image, depth_image\n",
    "\n",
    "\n",
    "if __name__ == \"__main__\":\n",
    "    record_rgbd()"
   ]
  }
 ],
 "metadata": {
  "kernelspec": {
   "display_name": "TensorFlow-GPU-1.13",
   "language": "python",
   "name": "tf-gpu"
  },
  "language_info": {
   "codemirror_mode": {
    "name": "ipython",
    "version": 3
   },
   "file_extension": ".py",
   "mimetype": "text/x-python",
   "name": "python",
   "nbconvert_exporter": "python",
   "pygments_lexer": "ipython3",
   "version": "3.6.7"
  }
 },
 "nbformat": 4,
 "nbformat_minor": 2
}
