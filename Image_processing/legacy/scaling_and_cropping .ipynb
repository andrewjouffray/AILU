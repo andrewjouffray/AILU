{
 "cells": [
  {
   "cell_type": "code",
   "execution_count": 41,
   "metadata": {},
   "outputs": [],
   "source": [
    "import cv2\n",
    "import numpy as np \n",
    "import time\n",
    "import os\n",
    "\n"
   ]
  },
  {
   "cell_type": "code",
   "execution_count": 42,
   "metadata": {},
   "outputs": [],
   "source": [
    "def viewImage(img):\n",
    "    cv2.imshow(\"image\",img)\n",
    "    cv2.waitKey(0)\n",
    "    cv2.destroyAllWindows()"
   ]
  },
  {
   "cell_type": "code",
   "execution_count": 43,
   "metadata": {},
   "outputs": [],
   "source": [
    "IMG_HEIGHT = 360\n",
    "IMG_WIDTH = 640\n",
    "\n",
    "vertical_margin = int(360 / 9)\n",
    "horizonal_margin = int(640 / 12)\n",
    "\n",
    "height = int(360 * 0.91)\n",
    "length = int(640 * 0.88)\n"
   ]
  },
  {
   "cell_type": "code",
   "execution_count": 44,
   "metadata": {},
   "outputs": [],
   "source": [
    "def main():\n",
    "    \n",
    "\n",
    "    img_depth = cv2.imread(\"./imgs/depth.png\", cv2.IMREAD_COLOR)\n",
    "    img_color = cv2.imread(\"./imgs/color.png\", cv2.IMREAD_COLOR)\n",
    "    old_depth = img_depth\n",
    "    croped_depth = img_depth[vertical_margin:height, horizonal_margin:length]\n",
    "    img_depth = cv2.resize(croped_depth,(640,360))\n",
    "    images = np.hstack((img_color, old_depth, img_depth))\n",
    "    viewImage(images)\n",
    "    \n"
   ]
  },
  {
   "cell_type": "code",
   "execution_count": 45,
   "metadata": {},
   "outputs": [],
   "source": [
    "main()"
   ]
  }
 ],
 "metadata": {
  "kernelspec": {
   "display_name": "TensorFlow-GPU-1.13",
   "language": "python",
   "name": "tf-gpu"
  },
  "language_info": {
   "codemirror_mode": {
    "name": "ipython",
    "version": 3
   },
   "file_extension": ".py",
   "mimetype": "text/x-python",
   "name": "python",
   "nbconvert_exporter": "python",
   "pygments_lexer": "ipython3",
   "version": "3.6.7"
  }
 },
 "nbformat": 4,
 "nbformat_minor": 2
}
