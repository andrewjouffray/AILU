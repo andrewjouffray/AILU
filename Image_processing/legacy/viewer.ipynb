{
 "cells": [
  {
   "cell_type": "code",
   "execution_count": null,
   "outputs": [],
   "source": [
    "import multiprocessing as mp\n",
    "import time \n",
    "import workers \n",
    "import Chunk\n",
    "\n",
    "res = [1920, 1080]\n",
    "fps = 30\n",
    "if __name__ == '__main__':\n",
    "            \n",
    "\n",
    "    \n",
    "            image_chunk = Chunk.loadChunk()\n",
    "            jobs = []\n",
    "            start = time.time()\n",
    "            for i in range(len(image_chunk)):\n",
    "#                     p = mp.Process(target=save_image, args=(image_chunk[i]))\n",
    "                p = mp.Process(target=workers.worker, args=(image_chunk[i],))\n",
    "                jobs.append(p)\n",
    "                p.start()\n",
    "            p.join()\n",
    "            end = time.time()\n",
    "            save_time = end - start\n",
    "            print(len(image_chunk),\"images in:\", save_time, \"seconds ||\", 300/save_time, \"images per second\")\n",
    "\n",
    "        \n"
   ],
   "metadata": {
    "collapsed": false,
    "pycharm": {
     "name": "#%%\n"
    }
   }
  },
  {
   "cell_type": "code",
   "execution_count": null,
   "outputs": [],
   "source": [],
   "metadata": {
    "collapsed": false,
    "pycharm": {
     "name": "#%%\n"
    }
   }
  }
 ],
 "metadata": {
  "kernelspec": {
   "display_name": "TensorFlow-GPU-1.13",
   "language": "python",
   "name": "tf-gpu"
  },
  "pycharm": {
   "stem_cell": {
    "cell_type": "raw",
    "source": [],
    "metadata": {
     "collapsed": false
    }
   }
  }
 },
 "nbformat": 4,
 "nbformat_minor": 2
}